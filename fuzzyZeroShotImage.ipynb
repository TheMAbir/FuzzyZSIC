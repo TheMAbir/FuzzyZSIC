{
 "cells": [
  {
   "cell_type": "code",
   "execution_count": 3,
   "metadata": {},
   "outputs": [
    {
     "name": "stdout",
     "output_type": "stream",
     "text": [
      "Collecting git+https://github.com/TheMAbir/FuzzyZSIC.git\n",
      "  Cloning https://github.com/TheMAbir/FuzzyZSIC.git to /private/var/folders/sh/xcj21pwd76b1zqqgf893x71c0000gn/T/pip-req-build-bj2jo8uk\n",
      "  Running command git clone --filter=blob:none --quiet https://github.com/TheMAbir/FuzzyZSIC.git /private/var/folders/sh/xcj21pwd76b1zqqgf893x71c0000gn/T/pip-req-build-bj2jo8uk\n",
      "  Resolved https://github.com/TheMAbir/FuzzyZSIC.git to commit bcd314458e4037ab4fe84018db4e2428b9444479\n",
      "  Preparing metadata (setup.py) ... \u001b[?25ldone\n",
      "\u001b[?25hRequirement already satisfied: torch in /Users/abirshahriar/anaconda3/envs/clip/lib/python3.8/site-packages (from FuzzyZSIC==1.0) (2.3.0)\n",
      "Requirement already satisfied: clip in /Users/abirshahriar/anaconda3/envs/clip/lib/python3.8/site-packages (from FuzzyZSIC==1.0) (1.0)\n",
      "Requirement already satisfied: Pillow in /Users/abirshahriar/anaconda3/envs/clip/lib/python3.8/site-packages (from FuzzyZSIC==1.0) (10.3.0)\n",
      "Requirement already satisfied: requests in /Users/abirshahriar/anaconda3/envs/clip/lib/python3.8/site-packages (from FuzzyZSIC==1.0) (2.31.0)\n",
      "Requirement already satisfied: numpy in /Users/abirshahriar/anaconda3/envs/clip/lib/python3.8/site-packages (from FuzzyZSIC==1.0) (1.24.3)\n",
      "Requirement already satisfied: sentence-transformers in /Users/abirshahriar/anaconda3/envs/clip/lib/python3.8/site-packages (from FuzzyZSIC==1.0) (2.7.0)\n",
      "Requirement already satisfied: fuzzywuzzy in /Users/abirshahriar/anaconda3/envs/clip/lib/python3.8/site-packages (from FuzzyZSIC==1.0) (0.18.0)\n",
      "Requirement already satisfied: python-Levenshtein in /Users/abirshahriar/anaconda3/envs/clip/lib/python3.8/site-packages (from FuzzyZSIC==1.0) (0.25.1)\n",
      "Requirement already satisfied: ftfy in /Users/abirshahriar/anaconda3/envs/clip/lib/python3.8/site-packages (from clip->FuzzyZSIC==1.0) (6.2.0)\n",
      "Requirement already satisfied: regex in /Users/abirshahriar/anaconda3/envs/clip/lib/python3.8/site-packages (from clip->FuzzyZSIC==1.0) (2024.4.28)\n",
      "Requirement already satisfied: tqdm in /Users/abirshahriar/anaconda3/envs/clip/lib/python3.8/site-packages (from clip->FuzzyZSIC==1.0) (4.66.2)\n",
      "Requirement already satisfied: torchvision in /Users/abirshahriar/anaconda3/envs/clip/lib/python3.8/site-packages (from clip->FuzzyZSIC==1.0) (0.18.0)\n",
      "Requirement already satisfied: Levenshtein==0.25.1 in /Users/abirshahriar/anaconda3/envs/clip/lib/python3.8/site-packages (from python-Levenshtein->FuzzyZSIC==1.0) (0.25.1)\n",
      "Requirement already satisfied: rapidfuzz<4.0.0,>=3.8.0 in /Users/abirshahriar/anaconda3/envs/clip/lib/python3.8/site-packages (from Levenshtein==0.25.1->python-Levenshtein->FuzzyZSIC==1.0) (3.9.0)\n",
      "Requirement already satisfied: charset-normalizer<4,>=2 in /Users/abirshahriar/anaconda3/envs/clip/lib/python3.8/site-packages (from requests->FuzzyZSIC==1.0) (3.3.2)\n",
      "Requirement already satisfied: idna<4,>=2.5 in /Users/abirshahriar/anaconda3/envs/clip/lib/python3.8/site-packages (from requests->FuzzyZSIC==1.0) (3.7)\n",
      "Requirement already satisfied: urllib3<3,>=1.21.1 in /Users/abirshahriar/anaconda3/envs/clip/lib/python3.8/site-packages (from requests->FuzzyZSIC==1.0) (2.2.1)\n",
      "Requirement already satisfied: certifi>=2017.4.17 in /Users/abirshahriar/anaconda3/envs/clip/lib/python3.8/site-packages (from requests->FuzzyZSIC==1.0) (2024.2.2)\n",
      "Requirement already satisfied: transformers<5.0.0,>=4.34.0 in /Users/abirshahriar/anaconda3/envs/clip/lib/python3.8/site-packages (from sentence-transformers->FuzzyZSIC==1.0) (4.40.1)\n",
      "Requirement already satisfied: scikit-learn in /Users/abirshahriar/anaconda3/envs/clip/lib/python3.8/site-packages (from sentence-transformers->FuzzyZSIC==1.0) (1.3.2)\n",
      "Requirement already satisfied: scipy in /Users/abirshahriar/anaconda3/envs/clip/lib/python3.8/site-packages (from sentence-transformers->FuzzyZSIC==1.0) (1.10.1)\n",
      "Requirement already satisfied: huggingface-hub>=0.15.1 in /Users/abirshahriar/anaconda3/envs/clip/lib/python3.8/site-packages (from sentence-transformers->FuzzyZSIC==1.0) (0.22.2)\n",
      "Requirement already satisfied: filelock in /Users/abirshahriar/anaconda3/envs/clip/lib/python3.8/site-packages (from torch->FuzzyZSIC==1.0) (3.14.0)\n",
      "Requirement already satisfied: typing-extensions>=4.8.0 in /Users/abirshahriar/anaconda3/envs/clip/lib/python3.8/site-packages (from torch->FuzzyZSIC==1.0) (4.11.0)\n",
      "Requirement already satisfied: sympy in /Users/abirshahriar/anaconda3/envs/clip/lib/python3.8/site-packages (from torch->FuzzyZSIC==1.0) (1.12)\n",
      "Requirement already satisfied: networkx in /Users/abirshahriar/anaconda3/envs/clip/lib/python3.8/site-packages (from torch->FuzzyZSIC==1.0) (2.8.8)\n",
      "Requirement already satisfied: jinja2 in /Users/abirshahriar/anaconda3/envs/clip/lib/python3.8/site-packages (from torch->FuzzyZSIC==1.0) (3.1.3)\n",
      "Requirement already satisfied: fsspec in /Users/abirshahriar/anaconda3/envs/clip/lib/python3.8/site-packages (from torch->FuzzyZSIC==1.0) (2024.3.1)\n",
      "Requirement already satisfied: packaging>=20.9 in /Users/abirshahriar/anaconda3/envs/clip/lib/python3.8/site-packages (from huggingface-hub>=0.15.1->sentence-transformers->FuzzyZSIC==1.0) (23.2)\n",
      "Requirement already satisfied: pyyaml>=5.1 in /Users/abirshahriar/anaconda3/envs/clip/lib/python3.8/site-packages (from huggingface-hub>=0.15.1->sentence-transformers->FuzzyZSIC==1.0) (6.0.1)\n",
      "Requirement already satisfied: tokenizers<0.20,>=0.19 in /Users/abirshahriar/anaconda3/envs/clip/lib/python3.8/site-packages (from transformers<5.0.0,>=4.34.0->sentence-transformers->FuzzyZSIC==1.0) (0.19.1)\n",
      "Requirement already satisfied: safetensors>=0.4.1 in /Users/abirshahriar/anaconda3/envs/clip/lib/python3.8/site-packages (from transformers<5.0.0,>=4.34.0->sentence-transformers->FuzzyZSIC==1.0) (0.4.3)\n",
      "Requirement already satisfied: wcwidth<0.3.0,>=0.2.12 in /Users/abirshahriar/anaconda3/envs/clip/lib/python3.8/site-packages (from ftfy->clip->FuzzyZSIC==1.0) (0.2.13)\n",
      "Requirement already satisfied: MarkupSafe>=2.0 in /Users/abirshahriar/anaconda3/envs/clip/lib/python3.8/site-packages (from jinja2->torch->FuzzyZSIC==1.0) (2.1.3)\n",
      "Requirement already satisfied: joblib>=1.1.1 in /Users/abirshahriar/anaconda3/envs/clip/lib/python3.8/site-packages (from scikit-learn->sentence-transformers->FuzzyZSIC==1.0) (1.4.2)\n",
      "Requirement already satisfied: threadpoolctl>=2.0.0 in /Users/abirshahriar/anaconda3/envs/clip/lib/python3.8/site-packages (from scikit-learn->sentence-transformers->FuzzyZSIC==1.0) (3.5.0)\n",
      "Requirement already satisfied: mpmath>=0.19 in /Users/abirshahriar/anaconda3/envs/clip/lib/python3.8/site-packages (from sympy->torch->FuzzyZSIC==1.0) (1.3.0)\n"
     ]
    }
   ],
   "source": [
    "!pip install git+https://github.com/TheMAbir/FuzzyZSIC.git"
   ]
  },
  {
   "cell_type": "code",
   "execution_count": 22,
   "metadata": {},
   "outputs": [
    {
     "ename": "ImportError",
     "evalue": "cannot import name 'ZeroShotImageClassification' from 'ZSIC' (/Users/abirshahriar/Library/CloudStorage/OneDrive-mail.nwpu.edu.cn/[02] Studies/[01] NPU Courses/[01] Thesis/FuzzyZSIC/ZSIC/__init__.py)",
     "output_type": "error",
     "traceback": [
      "\u001b[0;31m---------------------------------------------------------------------------\u001b[0m",
      "\u001b[0;31mImportError\u001b[0m                               Traceback (most recent call last)",
      "Cell \u001b[0;32mIn[22], line 1\u001b[0m\n\u001b[0;32m----> 1\u001b[0m \u001b[38;5;28;01mfrom\u001b[39;00m \u001b[38;5;21;01mZSIC\u001b[39;00m \u001b[38;5;28;01mimport\u001b[39;00m ZeroShotImageClassification\n",
      "\u001b[0;31mImportError\u001b[0m: cannot import name 'ZeroShotImageClassification' from 'ZSIC' (/Users/abirshahriar/Library/CloudStorage/OneDrive-mail.nwpu.edu.cn/[02] Studies/[01] NPU Courses/[01] Thesis/FuzzyZSIC/ZSIC/__init__.py)"
     ]
    }
   ],
   "source": [
    "from ZSIC import ZeroShotImageClassification"
   ]
  }
 ],
 "metadata": {
  "kernelspec": {
   "display_name": "clip",
   "language": "python",
   "name": "python3"
  },
  "language_info": {
   "codemirror_mode": {
    "name": "ipython",
    "version": 3
   },
   "file_extension": ".py",
   "mimetype": "text/x-python",
   "name": "python",
   "nbconvert_exporter": "python",
   "pygments_lexer": "ipython3",
   "version": "3.8.19"
  }
 },
 "nbformat": 4,
 "nbformat_minor": 2
}
